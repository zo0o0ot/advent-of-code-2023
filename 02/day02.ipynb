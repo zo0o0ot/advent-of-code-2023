{
 "cells": [
  {
   "cell_type": "code",
   "execution_count": 11,
   "metadata": {
    "dotnet_interactive": {
     "language": "csharp"
    },
    "polyglot_notebook": {
     "kernelName": "csharp"
    }
   },
   "outputs": [],
   "source": [
    "using static Microsoft.DotNet.Interactive.Formatting.PocketViewTags;\n",
    "using Microsoft.DotNet.Interactive.Formatting;\n",
    "using Microsoft.DotNet.Interactive;\n",
    "//using XPlot.Plotly.Interactive;\n",
    "using System.Collections.Generic;\n",
    "using System.IO;\n",
    "using System;\n",
    "using System.Text.RegularExpressions;"
   ]
  },
  {
   "cell_type": "code",
   "execution_count": 12,
   "metadata": {
    "dotnet_interactive": {
     "language": "csharp"
    },
    "polyglot_notebook": {
     "kernelName": "csharp"
    }
   },
   "outputs": [
    {
     "data": {
      "text/plain": [
       "This file exists.  Nothing has blown up.....yet."
      ]
     },
     "metadata": {},
     "output_type": "display_data"
    }
   ],
   "source": [
    "var fileExists = File.Exists(\"input.txt\");\n",
    "if (fileExists)\n",
    "{\n",
    "    display(\"This file exists.  Nothing has blown up.....yet.\");\n",
    "}"
   ]
  },
  {
   "cell_type": "code",
   "execution_count": 13,
   "metadata": {
    "dotnet_interactive": {
     "language": "csharp"
    },
    "polyglot_notebook": {
     "kernelName": "csharp"
    }
   },
   "outputs": [
    {
     "data": {
      "text/html": [
       "<div class=\"dni-plaintext\"><pre>[ Game 1: 4 blue, 7 red, 5 green; 3 blue, 4 red, 16 green; 3 red, 11 green, Game 2: 20 blue, 8 red, 1 green; 1 blue, 2 green, 8 red; 9 red, 4 green, 18 blue; 2 green, 7 red, 2 blue; 10 blue, 2 red, 5 green, Game 3: 2 red, 5 green, 1 blue; 3 blue, 5 green; 8 blue, 13 green, 2 red; 9 green, 3 blue; 12 green, 13 blue; 3 green, 3 blue, 1 red, Game 4: 1 red, 6 green, 4 blue; 3 green, 1 blue, 1 red; 7 blue, 1 red, 2 green, Game 5: 2 green, 9 blue, 1 red; 3 green, 1 blue, 3 red; 1 red, 4 blue, 9 green, Game 6: 2 blue, 5 red, 7 green; 5 blue, 8 red, 3 green; 2 red, 9 blue, 2 green, Game 7: 7 green, 7 blue, 2 red; 2 red, 7 green, 16 blue; 17 blue, 3 green, 3 red; 2 blue, 5 green, 3 red, Game 8: 4 red, 3 green; 9 green, 2 red, 2 blue; 1 red, 3 blue, 6 green, Game 9: 5 red, 3 green, 13 blue; 11 red, 15 blue, 1 green; 7 red, 2 blue, Game 10: 15 red, 3 green; 7 green, 4 blue, 11 red; 13 red, 13 blue; 2 blue, 5 green, 8 red, Game 11: 7 red, 3 green; 7 blue, 16 red, 4 green; 6 green, 6 blue, 12 red; 11 red, 4 green, 4 blue; 10 red, 6 blue, 2 green; 3 green, 7 red, 6 blue, Game 12: 1 blue, 2 red; 2 green, 15 blue; 6 green, 5 blue; 6 blue, 4 green; 5 blue, 3 green; 3 red, 3 blue, 10 green, Game 13: 10 red, 4 green; 9 red, 2 blue, 3 green; 6 red, 7 green, 1 blue; 9 red, 7 green, 1 blue; 3 blue; 3 blue, 3 red, 8 green, Game 14: 12 blue, 3 red, 4 green; 3 green, 1 red; 6 green, 16 blue, Game 15: 2 green, 3 red, 2 blue; 14 blue, 1 red, 17 green; 13 blue, 11 green, 10 red; 5 green, 7 red, 5 blue; 2 green, 3 blue, 6 red; 9 green, 2 blue, 5 red, Game 16: 2 blue, 1 red; 1 red, 2 green, 3 blue; 4 green, 9 blue, 3 red; 1 green, 4 red, 8 blue; 7 blue, 11 red, 1 green, Game 17: 9 green, 8 blue, 6 red; 8 red, 18 green, 1 blue; 18 red, 19 green, 1 blue, Game 18: 1 green, 4 red, 5 blue; 10 green, 8 blue; 12 green, 10 blue, Game 19: 3 red, 11 green, 12 blue; 16 green, 1 red, 20 blue; 9 green, 2 red, 14 blue; 5 blue, 2 green, 2 red; 20 blue, 3 red, 10 green; 4 green, 3 blue, Game 20: 17 red, 3 blue, 9 green; 6 green, 1 red, 7 blue; 6 red, 2 blue; 1 blue, 4 green, 5 red; 6 green, 5 red; 10 blue, 11 green, 2 red ... (80 more) ]</pre></div><style>\r\n",
       ".dni-code-hint {\r\n",
       "    font-style: italic;\r\n",
       "    overflow: hidden;\r\n",
       "    white-space: nowrap;\r\n",
       "}\r\n",
       ".dni-treeview {\r\n",
       "    white-space: nowrap;\r\n",
       "}\r\n",
       ".dni-treeview td {\r\n",
       "    vertical-align: top;\r\n",
       "    text-align: start;\r\n",
       "}\r\n",
       "details.dni-treeview {\r\n",
       "    padding-left: 1em;\r\n",
       "}\r\n",
       "table td {\r\n",
       "    text-align: start;\r\n",
       "}\r\n",
       "table tr { \r\n",
       "    vertical-align: top; \r\n",
       "    margin: 0em 0px;\r\n",
       "}\r\n",
       "table tr td pre \r\n",
       "{ \r\n",
       "    vertical-align: top !important; \r\n",
       "    margin: 0em 0px !important;\r\n",
       "} \r\n",
       "table th {\r\n",
       "    text-align: start;\r\n",
       "}\r\n",
       "</style>"
      ]
     },
     "metadata": {},
     "output_type": "display_data"
    }
   ],
   "source": [
    "string[] lines = System.IO.File.ReadAllLines(\"input.txt\");\n",
    "lines"
   ]
  },
  {
   "cell_type": "markdown",
   "metadata": {},
   "source": [
    "I'm going to make some functions this time, because some of the things need to be a bit more complex and replicable."
   ]
  },
  {
   "cell_type": "code",
   "execution_count": 14,
   "metadata": {
    "dotnet_interactive": {
     "language": "csharp"
    },
    "polyglot_notebook": {
     "kernelName": "csharp"
    }
   },
   "outputs": [],
   "source": [
    "public static string UseMe()\n",
    "{\n",
    "    return \"hey yo\";\n",
    "}"
   ]
  },
  {
   "cell_type": "code",
   "execution_count": 15,
   "metadata": {
    "dotnet_interactive": {
     "language": "csharp"
    },
    "polyglot_notebook": {
     "kernelName": "csharp"
    }
   },
   "outputs": [
    {
     "data": {
      "text/plain": [
       "hey yo"
      ]
     },
     "metadata": {},
     "output_type": "display_data"
    }
   ],
   "source": [
    "var asdfasdf = UseMe();\n",
    "asdfasdf"
   ]
  },
  {
   "cell_type": "markdown",
   "metadata": {},
   "source": [
    "That works, so let's try to convert a line of game input into some form of object that shows the maximum cubes shown."
   ]
  },
  {
   "cell_type": "code",
   "execution_count": 72,
   "metadata": {
    "dotnet_interactive": {
     "language": "csharp"
    },
    "polyglot_notebook": {
     "kernelName": "csharp"
    }
   },
   "outputs": [],
   "source": [
    "public class CubeBag\n",
    "{\n",
    "    // Properties to track the count of each color of cubes\n",
    "    public int ID { get; set; }\n",
    "    public int RedCubes { get; set; }\n",
    "    public int GreenCubes { get; set; }\n",
    "    public int BlueCubes { get; set; }\n",
    "\n",
    "    // Method to display the current counts of each color of cubes\n",
    "    public void DisplayCubeCounts()\n",
    "    {\n",
    "        Console.WriteLine(\"Red cubes: \" + RedCubes);\n",
    "        Console.WriteLine(\"Green cubes: \" + GreenCubes);\n",
    "        Console.WriteLine(\"Blue cubes: \" + BlueCubes);\n",
    "    }\n",
    "}\n",
    "\n",
    "public static CubeBag CalculateBag(string pulls)\n",
    "{\n",
    "    CubeBag bag = new CubeBag();\n",
    "    //Console.Out.WriteLine(\"current line:\" + pulls);\n",
    "    string[] semicolonSplit = pulls.Split(\";\");\n",
    "\n",
    "    var currentId = 0;\n",
    "\n",
    "    List<string> allThePulls = new List<string>();\n",
    "\n",
    "    foreach (string str in semicolonSplit)\n",
    "    {\n",
    "        //Console.Out.WriteLine(\"String portion:\" + str);\n",
    "        if (str.StartsWith(\"Game\"))\n",
    "        {\n",
    "            string[] gameParts = str.Split(':');\n",
    "            string gamePortion = gameParts[0];\n",
    "            string numberPart = gamePortion.Substring(4);\n",
    "            //Console.WriteLine(\"ID:\" + numberPart);\n",
    "            bool result = int.TryParse(numberPart, out currentId);\n",
    "            //Console.Out.WriteLine(\"Game part: \" + gamePortion);\n",
    "            string[] scoreParts = gameParts[1].Split(','); \n",
    "            foreach (string p in scoreParts)\n",
    "            {\n",
    "                //Console.Out.WriteLine(\"Score Part: \" + p);\n",
    "                allThePulls.Add(p);\n",
    "                (string color, int count) currentPull = CubeCounter(p);\n",
    "                //Console.Out.WriteLine(\"Color:\" + currentPull.color + \" Count: \" + currentPull.count);\n",
    "            }\n",
    "\n",
    "            \n",
    "        }\n",
    "        else\n",
    "        {\n",
    "            foreach (var part in str.Split(','))\n",
    "            {\n",
    "                //Console.Out.WriteLine(\"game part:\" + part);\n",
    "                allThePulls.Add(part);\n",
    "            }   \n",
    "        }\n",
    "\n",
    "        //Console.Out.WriteLine(\"Here's all the parts:\");\n",
    "        foreach(string asdf in allThePulls)\n",
    "        {\n",
    "            //Console.Out.WriteLine(\"alltheParts part:\" + asdf);\n",
    "        }\n",
    "    }\n",
    "\n",
    "    // I have all the parts, now make the bag.\n",
    "    // create default red, green, and blue counts.\n",
    "    IDictionary<string, int> cubeValues = new Dictionary<string, int>();\n",
    "    cubeValues.Add(\"green\",0);\n",
    "    cubeValues.Add(\"blue\",0);\n",
    "    cubeValues.Add(\"red\",0);\n",
    "\n",
    "    //Get all the new values, and only save the highest values.\n",
    "    foreach(string pull in allThePulls)\n",
    "    {\n",
    "        (string color, int count) currentPull = CubeCounter(pull);\n",
    "        //Console.Out.WriteLine(\"Color:\" + currentPull.color + \" Count: \" + currentPull.count);\n",
    "        int oldValue = cubeValues[currentPull.color];\n",
    "        if(currentPull.count > oldValue)\n",
    "        {\n",
    "            cubeValues[currentPull.color] = currentPull.count;\n",
    "        }\n",
    "    }\n",
    "\n",
    "    //translate dictionary to object\n",
    "    bag.ID = currentId;\n",
    "    bag.RedCubes = cubeValues[\"red\"];\n",
    "    bag.GreenCubes = cubeValues[\"green\"];\n",
    "    bag.BlueCubes = cubeValues[\"blue\"];\n",
    "\n",
    "\n",
    "    return bag;\n",
    "}\n",
    "\n",
    "public static (string, int) CubeCounter(string cubePull)\n",
    "{\n",
    "    string[] cubeParts = cubePull.Substring(1).Split(\" \");\n",
    "    string cubeColor = cubeParts[1];\n",
    "    bool success = int.TryParse(cubeParts[0], out int cubeCount);\n",
    "    if(!success)\n",
    "    {\n",
    "        cubeCount = 0;\n",
    "    }\n",
    "\n",
    "\n",
    "    return (cubeColor, cubeCount);\n",
    "}\n",
    "\n"
   ]
  },
  {
   "cell_type": "code",
   "execution_count": 81,
   "metadata": {
    "dotnet_interactive": {
     "language": "csharp"
    },
    "polyglot_notebook": {
     "kernelName": "csharp"
    }
   },
   "outputs": [],
   "source": [
    "// I can create cubes, now I need to see if they are possible.\n",
    "public static int AddBagIfPossible(CubeBag cb, int redCount = 12, int blueCount = 14, int greenCount = 13)\n",
    "{\n",
    "    if (redCount >= cb.RedCubes && blueCount >= cb.BlueCubes && greenCount >= cb.GreenCubes)\n",
    "    {\n",
    "        return cb.ID;\n",
    "    }\n",
    "    else\n",
    "    {\n",
    "        return 0;\n",
    "    }\n",
    "}"
   ]
  },
  {
   "cell_type": "code",
   "execution_count": 82,
   "metadata": {
    "dotnet_interactive": {
     "language": "csharp"
    },
    "polyglot_notebook": {
     "kernelName": "csharp"
    }
   },
   "outputs": [
    {
     "name": "stdout",
     "output_type": "stream",
     "text": [
      "Possible ID to add: 0\n",
      "Possible ID to add: 0\n",
      "Possible ID to add: 3\n",
      "Possible ID to add: 4\n",
      "Possible ID to add: 5\n",
      "Possible ID to add: 6\n",
      "Possible ID to add: 0\n",
      "Possible ID to add: 8\n",
      "Possible ID to add: 0\n",
      "Possible ID to add: 0\n",
      "Possible ID to add: 0\n",
      "Possible ID to add: 0\n",
      "Possible ID to add: 13\n",
      "Possible ID to add: 0\n",
      "Possible ID to add: 0\n",
      "Possible ID to add: 16\n",
      "Possible ID to add: 0\n",
      "Possible ID to add: 18\n",
      "Possible ID to add: 0\n",
      "Possible ID to add: 0\n",
      "Possible ID to add: 0\n",
      "Possible ID to add: 0\n",
      "Possible ID to add: 0\n",
      "Possible ID to add: 0\n",
      "Possible ID to add: 25\n",
      "Possible ID to add: 26\n",
      "Possible ID to add: 27\n",
      "Possible ID to add: 28\n",
      "Possible ID to add: 0\n",
      "Possible ID to add: 30\n",
      "Possible ID to add: 0\n",
      "Possible ID to add: 32\n",
      "Possible ID to add: 33\n",
      "Possible ID to add: 34\n",
      "Possible ID to add: 0\n",
      "Possible ID to add: 0\n",
      "Possible ID to add: 37\n",
      "Possible ID to add: 0\n",
      "Possible ID to add: 0\n",
      "Possible ID to add: 0\n",
      "Possible ID to add: 41\n",
      "Possible ID to add: 0\n",
      "Possible ID to add: 43\n",
      "Possible ID to add: 0\n",
      "Possible ID to add: 0\n",
      "Possible ID to add: 0\n",
      "Possible ID to add: 47\n",
      "Possible ID to add: 0\n",
      "Possible ID to add: 0\n",
      "Possible ID to add: 0\n",
      "Possible ID to add: 0\n",
      "Possible ID to add: 0\n",
      "Possible ID to add: 0\n",
      "Possible ID to add: 54\n",
      "Possible ID to add: 55\n",
      "Possible ID to add: 56\n",
      "Possible ID to add: 0\n",
      "Possible ID to add: 0\n",
      "Possible ID to add: 0\n",
      "Possible ID to add: 60\n",
      "Possible ID to add: 0\n",
      "Possible ID to add: 0\n",
      "Possible ID to add: 0\n",
      "Possible ID to add: 0\n",
      "Possible ID to add: 65\n",
      "Possible ID to add: 66\n",
      "Possible ID to add: 67\n",
      "Possible ID to add: 68\n",
      "Possible ID to add: 69\n",
      "Possible ID to add: 0\n",
      "Possible ID to add: 71\n",
      "Possible ID to add: 72\n",
      "Possible ID to add: 0\n",
      "Possible ID to add: 74\n",
      "Possible ID to add: 0\n",
      "Possible ID to add: 0\n",
      "Possible ID to add: 77\n",
      "Possible ID to add: 0\n",
      "Possible ID to add: 79\n",
      "Possible ID to add: 0\n",
      "Possible ID to add: 0\n",
      "Possible ID to add: 0\n",
      "Possible ID to add: 83\n",
      "Possible ID to add: 84\n",
      "Possible ID to add: 0\n",
      "Possible ID to add: 86\n",
      "Possible ID to add: 87\n",
      "Possible ID to add: 0\n",
      "Possible ID to add: 89\n",
      "Possible ID to add: 0\n",
      "Possible ID to add: 0\n",
      "Possible ID to add: 92\n",
      "Possible ID to add: 93\n",
      "Possible ID to add: 0\n",
      "Possible ID to add: 95\n",
      "Possible ID to add: 0\n",
      "Possible ID to add: 97\n",
      "Possible ID to add: 98\n",
      "Possible ID to add: 99\n",
      "Possible ID to add: 100\n"
     ]
    },
    {
     "data": {
      "text/html": [
       "<div class=\"dni-plaintext\"><pre>2512</pre></div><style>\r\n",
       ".dni-code-hint {\r\n",
       "    font-style: italic;\r\n",
       "    overflow: hidden;\r\n",
       "    white-space: nowrap;\r\n",
       "}\r\n",
       ".dni-treeview {\r\n",
       "    white-space: nowrap;\r\n",
       "}\r\n",
       ".dni-treeview td {\r\n",
       "    vertical-align: top;\r\n",
       "    text-align: start;\r\n",
       "}\r\n",
       "details.dni-treeview {\r\n",
       "    padding-left: 1em;\r\n",
       "}\r\n",
       "table td {\r\n",
       "    text-align: start;\r\n",
       "}\r\n",
       "table tr { \r\n",
       "    vertical-align: top; \r\n",
       "    margin: 0em 0px;\r\n",
       "}\r\n",
       "table tr td pre \r\n",
       "{ \r\n",
       "    vertical-align: top !important; \r\n",
       "    margin: 0em 0px !important;\r\n",
       "} \r\n",
       "table th {\r\n",
       "    text-align: start;\r\n",
       "}\r\n",
       "</style>"
      ]
     },
     "metadata": {},
     "output_type": "display_data"
    }
   ],
   "source": [
    "var bag0 = CalculateBag(lines[0]);\n",
    "\n",
    "int sum = 0;\n",
    "\n",
    "foreach(string line in lines)\n",
    "{\n",
    "    CubeBag bag = CalculateBag(line);\n",
    "    int possibleId = AddBagIfPossible(bag);\n",
    "    Console.WriteLine(\"Possible ID to add: \" + possibleId);\n",
    "    sum += possibleId;\n",
    "}\n",
    "\n",
    "//int val = AddBagIfPossible(bag0);\n",
    "\n",
    "sum\n",
    "\n"
   ]
  },
  {
   "cell_type": "markdown",
   "metadata": {},
   "source": [
    "That's good enough for the first star!"
   ]
  }
 ],
 "metadata": {
  "kernelspec": {
   "display_name": ".NET (C#)",
   "language": "C#",
   "name": ".net-csharp"
  },
  "language_info": {
   "name": "polyglot-notebook"
  },
  "polyglot_notebook": {
   "kernelInfo": {
    "defaultKernelName": "csharp",
    "items": [
     {
      "aliases": [],
      "languageName": "csharp",
      "name": "csharp"
     }
    ]
   }
  }
 },
 "nbformat": 4,
 "nbformat_minor": 2
}
