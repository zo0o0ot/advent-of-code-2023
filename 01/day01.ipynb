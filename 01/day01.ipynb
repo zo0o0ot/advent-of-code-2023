{
 "cells": [
  {
   "cell_type": "markdown",
   "metadata": {},
   "source": [
    "Do some using statements."
   ]
  },
  {
   "cell_type": "code",
   "execution_count": 1,
   "metadata": {
    "dotnet_interactive": {
     "language": "csharp"
    },
    "polyglot_notebook": {
     "kernelName": "csharp"
    }
   },
   "outputs": [],
   "source": [
    "using static Microsoft.DotNet.Interactive.Formatting.PocketViewTags;\n",
    "using Microsoft.DotNet.Interactive.Formatting;\n",
    "using Microsoft.DotNet.Interactive;\n",
    "//using XPlot.Plotly.Interactive;\n",
    "using System.Collections.Generic;\n",
    "using System.IO;\n",
    "using System;\n",
    "using System.Text.RegularExpressions;\n",
    "\n"
   ]
  },
  {
   "cell_type": "markdown",
   "metadata": {},
   "source": [
    "See if the input text exists."
   ]
  },
  {
   "cell_type": "code",
   "execution_count": 2,
   "metadata": {
    "dotnet_interactive": {
     "language": "csharp"
    },
    "polyglot_notebook": {
     "kernelName": "csharp"
    }
   },
   "outputs": [
    {
     "data": {
      "text/plain": [
       "This file exists.  Nothing has blown up.....yet."
      ]
     },
     "metadata": {},
     "output_type": "display_data"
    }
   ],
   "source": [
    "var fileExists = File.Exists(\"input.txt\");\n",
    "if (fileExists)\n",
    "{\n",
    "    display(\"This file exists.  Nothing has blown up.....yet.\");\n",
    "}"
   ]
  },
  {
   "cell_type": "markdown",
   "metadata": {},
   "source": [
    "Load the input into a string array"
   ]
  },
  {
   "cell_type": "code",
   "execution_count": 3,
   "metadata": {
    "dotnet_interactive": {
     "language": "csharp"
    },
    "polyglot_notebook": {
     "kernelName": "csharp"
    }
   },
   "outputs": [
    {
     "data": {
      "text/html": [
       "<div class=\"dni-plaintext\"><pre>[ 7jlncfksix7rjgrpglmn9, vcgkgxninerqjltdbhqzzpd4nine23, fx3, 8nrbjbpjpnineseven, 7qlfhcsnxn7fpfhjcgr6eightsevenjlpchjtzpztwo, 28rzgskgk94ninefive, zdpxcql1eight5, 8two5six37, 9khfphjl71trppsrtwo, lxthkgbbf2jdcssfiveqksvbqvm8four4, seven9tjcgztctxzzttct, onetljcfh9fivesvgcqnklz9four, 4mptgcnzmvvsevenzmjjzhndzdvxmz59bm, 1hrqthmr, 7eightqmfmsn, jkgdnpzjkzzceighttklsfiveqxgsvxdq4, hdk28lqhhttjz6one2, 2five524, 363mtk, qlmtpch9eightlzddxs7one ... (980 more) ]</pre></div><style>\r\n",
       ".dni-code-hint {\r\n",
       "    font-style: italic;\r\n",
       "    overflow: hidden;\r\n",
       "    white-space: nowrap;\r\n",
       "}\r\n",
       ".dni-treeview {\r\n",
       "    white-space: nowrap;\r\n",
       "}\r\n",
       ".dni-treeview td {\r\n",
       "    vertical-align: top;\r\n",
       "    text-align: start;\r\n",
       "}\r\n",
       "details.dni-treeview {\r\n",
       "    padding-left: 1em;\r\n",
       "}\r\n",
       "table td {\r\n",
       "    text-align: start;\r\n",
       "}\r\n",
       "table tr { \r\n",
       "    vertical-align: top; \r\n",
       "    margin: 0em 0px;\r\n",
       "}\r\n",
       "table tr td pre \r\n",
       "{ \r\n",
       "    vertical-align: top !important; \r\n",
       "    margin: 0em 0px !important;\r\n",
       "} \r\n",
       "table th {\r\n",
       "    text-align: start;\r\n",
       "}\r\n",
       "</style>"
      ]
     },
     "metadata": {},
     "output_type": "display_data"
    }
   ],
   "source": [
    "string[] lines = System.IO.File.ReadAllLines(\"input.txt\");\n",
    "lines"
   ]
  },
  {
   "cell_type": "markdown",
   "metadata": {},
   "source": [
    "do the calculations. Find the first and the last digit"
   ]
  },
  {
   "cell_type": "code",
   "execution_count": 4,
   "metadata": {
    "dotnet_interactive": {
     "language": "csharp"
    },
    "polyglot_notebook": {
     "kernelName": "csharp"
    }
   },
   "outputs": [
    {
     "name": "stdout",
     "output_type": "stream",
     "text": [
      "7\n",
      "7\n",
      "9\n",
      "number of ints in line: 3\n",
      "line value: 79\n"
     ]
    },
    {
     "data": {
      "text/html": [
       "<div class=\"dni-plaintext\"><pre>79</pre></div><style>\r\n",
       ".dni-code-hint {\r\n",
       "    font-style: italic;\r\n",
       "    overflow: hidden;\r\n",
       "    white-space: nowrap;\r\n",
       "}\r\n",
       ".dni-treeview {\r\n",
       "    white-space: nowrap;\r\n",
       "}\r\n",
       ".dni-treeview td {\r\n",
       "    vertical-align: top;\r\n",
       "    text-align: start;\r\n",
       "}\r\n",
       "details.dni-treeview {\r\n",
       "    padding-left: 1em;\r\n",
       "}\r\n",
       "table td {\r\n",
       "    text-align: start;\r\n",
       "}\r\n",
       "table tr { \r\n",
       "    vertical-align: top; \r\n",
       "    margin: 0em 0px;\r\n",
       "}\r\n",
       "table tr td pre \r\n",
       "{ \r\n",
       "    vertical-align: top !important; \r\n",
       "    margin: 0em 0px !important;\r\n",
       "} \r\n",
       "table th {\r\n",
       "    text-align: start;\r\n",
       "}\r\n",
       "</style>"
      ]
     },
     "metadata": {},
     "output_type": "display_data"
    }
   ],
   "source": [
    "string firstString = lines[0];\n",
    "char[] charArray = firstString.ToCharArray();\n",
    "List<int> parsedInts = new List<int>();\n",
    "foreach(char c in charArray)\n",
    "{\n",
    "    bool isNumeric = int.TryParse(c.ToString(), out int num);\n",
    "    if (isNumeric)\n",
    "    {\n",
    "        Console.Out.WriteLine(num);\n",
    "        parsedInts.Add(num);\n",
    "    }\n",
    "}\n",
    "Console.Out.WriteLine(\"number of ints in line: \" + parsedInts.Count);\n",
    "\n",
    "String s = parsedInts[0] + \"\" + parsedInts[parsedInts.Count - 1];\n",
    "Console.Out.WriteLine(\"line value: \" + s);\n",
    "int actualInt = parsedInts[0]*10 + parsedInts[parsedInts.Count - 1];\n",
    "actualInt"
   ]
  },
  {
   "cell_type": "markdown",
   "metadata": {},
   "source": [
    "OK, experiments are over.  Let's add the lines."
   ]
  },
  {
   "cell_type": "code",
   "execution_count": 5,
   "metadata": {
    "dotnet_interactive": {
     "language": "csharp"
    },
    "polyglot_notebook": {
     "kernelName": "csharp"
    }
   },
   "outputs": [
    {
     "data": {
      "text/html": [
       "<div class=\"dni-plaintext\"><pre>55488</pre></div><style>\r\n",
       ".dni-code-hint {\r\n",
       "    font-style: italic;\r\n",
       "    overflow: hidden;\r\n",
       "    white-space: nowrap;\r\n",
       "}\r\n",
       ".dni-treeview {\r\n",
       "    white-space: nowrap;\r\n",
       "}\r\n",
       ".dni-treeview td {\r\n",
       "    vertical-align: top;\r\n",
       "    text-align: start;\r\n",
       "}\r\n",
       "details.dni-treeview {\r\n",
       "    padding-left: 1em;\r\n",
       "}\r\n",
       "table td {\r\n",
       "    text-align: start;\r\n",
       "}\r\n",
       "table tr { \r\n",
       "    vertical-align: top; \r\n",
       "    margin: 0em 0px;\r\n",
       "}\r\n",
       "table tr td pre \r\n",
       "{ \r\n",
       "    vertical-align: top !important; \r\n",
       "    margin: 0em 0px !important;\r\n",
       "} \r\n",
       "table th {\r\n",
       "    text-align: start;\r\n",
       "}\r\n",
       "</style>"
      ]
     },
     "metadata": {},
     "output_type": "display_data"
    }
   ],
   "source": [
    "int sum = 0;\n",
    "\n",
    "foreach (string s in lines)\n",
    "{\n",
    "    //Console.Out.WriteLine(\"current line: \" + s);\n",
    "    char[] charArray = s.ToCharArray();\n",
    "    List<int> parsedInts = new List<int>();\n",
    "    foreach(char c in charArray)\n",
    "    {\n",
    "        bool isNumeric = int.TryParse(c.ToString(), out int num);\n",
    "        if (isNumeric)\n",
    "        {\n",
    "            parsedInts.Add(num);\n",
    "        }\n",
    "    }\n",
    "    //Console.Out.WriteLine(\"number of ints in line: \" + parsedInts.Count);\n",
    "    String str = parsedInts[0] + \"\" + parsedInts[parsedInts.Count - 1];\n",
    "    //Console.Out.WriteLine(\"line value: \" + str);\n",
    "    int actualInt = parsedInts[0]*10 + parsedInts[parsedInts.Count - 1];\n",
    "    //Console.Out.WriteLine(\"Actual int: \" + actualInt);\n",
    "    sum += actualInt;\n",
    "    //Console.Out.WriteLine(\"Sum so far: \" + sum);\n",
    "    // clear out list or things go poorly.\n",
    "    parsedInts.Clear();\n",
    "}\n",
    "sum"
   ]
  },
  {
   "cell_type": "markdown",
   "metadata": {},
   "source": [
    "OK, that's good for part 1.\n",
    "\n",
    "New requirement:\n",
    "It looks like some of the digits are actually spelled out with letters: one, two, three, four, five, six, seven, eight, and nine also count as valid \"digits\".\n",
    "\n",
    "Equipped with this new information, you now need to find the real first and last digit on each line. For example:\n",
    "\n",
    "two1nine\n",
    "eightwothree\n",
    "abcone2threexyz\n",
    "xtwone3four\n",
    "4nineeightseven2\n",
    "zoneight234\n",
    "7pqrstsixteen\n",
    "\n",
    "In this example, the calibration values are 29, 83, 13, 24, 42, 14, and 76. Adding these together produces 281."
   ]
  },
  {
   "cell_type": "code",
   "execution_count": 6,
   "metadata": {
    "dotnet_interactive": {
     "language": "csharp"
    },
    "polyglot_notebook": {
     "kernelName": "csharp"
    }
   },
   "outputs": [
    {
     "name": "stdout",
     "output_type": "stream",
     "text": [
      "current line: vcgkgxninerqjltdbhqzzpd4nine23eightwothree\n"
     ]
    },
    {
     "data": {
      "text/html": [
       "<div class=\"dni-plaintext\"><pre>[ vcgkgxninerqjltdbhqzzpd, 4, nine, 2, 3, eightwothree ]</pre></div><style>\r\n",
       ".dni-code-hint {\r\n",
       "    font-style: italic;\r\n",
       "    overflow: hidden;\r\n",
       "    white-space: nowrap;\r\n",
       "}\r\n",
       ".dni-treeview {\r\n",
       "    white-space: nowrap;\r\n",
       "}\r\n",
       ".dni-treeview td {\r\n",
       "    vertical-align: top;\r\n",
       "    text-align: start;\r\n",
       "}\r\n",
       "details.dni-treeview {\r\n",
       "    padding-left: 1em;\r\n",
       "}\r\n",
       "table td {\r\n",
       "    text-align: start;\r\n",
       "}\r\n",
       "table tr { \r\n",
       "    vertical-align: top; \r\n",
       "    margin: 0em 0px;\r\n",
       "}\r\n",
       "table tr td pre \r\n",
       "{ \r\n",
       "    vertical-align: top !important; \r\n",
       "    margin: 0em 0px !important;\r\n",
       "} \r\n",
       "table th {\r\n",
       "    text-align: start;\r\n",
       "}\r\n",
       "</style>"
      ]
     },
     "metadata": {},
     "output_type": "display_data"
    }
   ],
   "source": [
    "string s1 = lines[0]; // 7jlncfksix7rjgrpglmn9\n",
    "string s2 = \"vcgkgxninerqjltdbhqzzpd4nine23eightwothree\";\n",
    "\n",
    "// each string should be made of substrings so we can order the numbers and letters together\n",
    "\n",
    "// I'll admit that I asked Bard for help on making the substrings.\n",
    "\n",
    "// Bard's suggestion?\n",
    "//        Regex regex = new Regex(@\"(\\d+)|([a-zA-Z]+)\");\n",
    "//        MatchCollection matches = regex.Matches(input);\n",
    "//\n",
    "//        List<string> results = new List<string>();\n",
    "//\n",
    "//        foreach (Match match in matches)\n",
    "//        {\n",
    "//            results.Add(match.Value);\n",
    "//        } \n",
    "\n",
    "int sum = 0;\n",
    "\n",
    "// I'm starting over using s2 as the test.\n",
    "// The string: vcgkgxninerqjltdbhqzzpd4nine23\n",
    "// Old result: 43\n",
    "// New result should be: 93\n",
    "\n",
    "Console.Out.WriteLine(\"current line: \" + s2);\n",
    "\n",
    "Regex regex = new Regex(@\"(\\d)|([a-zA-Z]+)\");\n",
    "\n",
    "MatchCollection matches = regex.Matches(s2);\n",
    "\n",
    "List<string> results = new List<string>();\n",
    "\n",
    "foreach (Match match in matches)\n",
    "{\n",
    "    results.Add(match.Value);\n",
    "}\n",
    "\n",
    "results\n",
    "\n",
    "\n",
    "\n"
   ]
  },
  {
   "cell_type": "markdown",
   "metadata": {},
   "source": [
    "OK, I needed to modify Bard's regex, but I have what I need, almost. I changed \"vcgkgxninerqjltdbhqzzpd4nine23\" to \"vcgkgxninerqjltdbhqzzpd4nine23eightwothree\" because I need better matching for the number strings.\n",
    "\n",
    "Next, I need to look for numbers in the strings. \n",
    "\n",
    "I can use \"results\" from above to look for the answers."
   ]
  },
  {
   "cell_type": "code",
   "execution_count": 7,
   "metadata": {
    "dotnet_interactive": {
     "language": "csharp"
    },
    "polyglot_notebook": {
     "kernelName": "csharp"
    }
   },
   "outputs": [
    {
     "name": "stdout",
     "output_type": "stream",
     "text": [
      "current string: vcgkgxninerqjltdbhqzzpd\n",
      "Match count: 1\n",
      "Match: nine\n",
      "int: 4\n",
      "current string: nine\n",
      "Match count: 1\n",
      "Match: nine\n",
      "int: 2\n",
      "int: 3\n",
      "current string: eightwothree\n",
      "Match count: 2\n",
      "Match: eight\n",
      "Match: three\n"
     ]
    }
   ],
   "source": [
    "\n",
    "foreach (string chunk in results)\n",
    "{\n",
    "    // Either it's a number or string at this point, and I can handle the number.\n",
    "    bool isNumeric = int.TryParse(chunk.ToString(), out int num);\n",
    "    if (isNumeric)\n",
    "    {\n",
    "        Console.Out.WriteLine(\"int: \" + chunk);\n",
    "        parsedInts.Add(num);\n",
    "    }\n",
    "    else\n",
    "    {\n",
    "        // Here are the strings that need searching.\n",
    "        Console.Out.WriteLine(\"current string: \" + chunk);\n",
    "        \n",
    "        Regex regex2 = new Regex(@\"(one|two|three|four|five|six|seven|eight|nine|\\d)\", RegexOptions.IgnoreCase);\n",
    "        MatchCollection dmatches = regex2.Matches(chunk);\n",
    "\n",
    "        Console.Out.WriteLine(\"Match count: \" + dmatches.Count);\n",
    "        List<string> digits = new List<string>();\n",
    "\n",
    "        foreach (Match match in dmatches)\n",
    "        {\n",
    "            Console.Out.WriteLine(\"Match: \" + match.Value);\n",
    "            digits.Add(match.Value);\n",
    "        }\n",
    "\n",
    "    }\n",
    "\n",
    "}\n",
    "\n",
    "parsedInts.Clear();"
   ]
  },
  {
   "cell_type": "markdown",
   "metadata": {},
   "source": [
    "We're almost there.  Let's brute force the combinations, maybe?\n",
    "\n",
    "_One_ \n",
    "\n",
    "Possible contractions to start:\n",
    "* Two (twone)\n",
    "\n",
    "Possible contractions at end:\n",
    "* Eight (oneight)\n",
    "\n",
    "_Two_\n",
    "\n",
    "Possible contractions to start:\n",
    "* Eight (eightwo)\n",
    "\n",
    "Possible contractions at end:\n",
    "* One (twone)\n",
    "\n",
    "_Three_\n",
    "\n",
    "Possible contractions to start:\n",
    "* Eight (eighthree)\n",
    "\n",
    "Possible contractions at end:\n",
    "* Eight (threeight)\n",
    "\n",
    "_Four_\n",
    "\n",
    "Possible contractions to start:\n",
    "* None\n",
    "\n",
    "Possible contractions at end:\n",
    "* None\n",
    "\n",
    "_Five_\n",
    "\n",
    "Possible contractions to start:\n",
    "* None\n",
    "\n",
    "Possible contractions at end:\n",
    "* Eight (fiveight)\n",
    "\n",
    "_Six_\n",
    "\n",
    "Possible contractions to start:\n",
    "* None\n",
    "\n",
    "Possible contractions at end:\n",
    "* None\n",
    "\n",
    "_Seven_\n",
    "\n",
    "Possible contractions to start:\n",
    "* None\n",
    "\n",
    "Possible contractions at end:\n",
    "* Nine (sevenine)\n",
    "\n",
    "_Eight_\n",
    "\n",
    "Possible contractions to start:\n",
    "* Nine (nineight)\n",
    "* Five (fiveight)\n",
    "* Three (threeight)\n",
    "* One (oneight)\n",
    "\n",
    "Possible contractions at end:\n",
    "* Two (eightwo)\n",
    "* Three (eighthree)\n",
    "\n",
    "_Nine_\n",
    "\n",
    "Possible contractions to start:\n",
    "* Seven (sevenine)\n",
    "\n",
    "Possible contractions at end:\n",
    "* Eight (nineight)"
   ]
  },
  {
   "cell_type": "code",
   "execution_count": 8,
   "metadata": {
    "dotnet_interactive": {
     "language": "csharp"
    },
    "polyglot_notebook": {
     "kernelName": "csharp"
    }
   },
   "outputs": [
    {
     "name": "stdout",
     "output_type": "stream",
     "text": [
      "current string: vcgkgxninerqjltdbhqzzpd\n",
      "Match count: 1\n",
      "Match: nine\n",
      "int: 4\n",
      "current string: nine\n",
      "Match count: 1\n",
      "Match: nine\n",
      "int: 2\n",
      "int: 3\n",
      "current string: eightwothree\n",
      "Match count: 2\n",
      "Match: eightwo\n",
      "Match: three\n"
     ]
    }
   ],
   "source": [
    "// twone|oneight|eightwo|eighthree|threeight|fiveight|sevenine|nineight\n",
    "\n",
    "foreach (string chunk in results)\n",
    "{\n",
    "    // Either it's a number or string at this point, and I can handle the number.\n",
    "    bool isNumeric = int.TryParse(chunk.ToString(), out int num);\n",
    "    if (isNumeric)\n",
    "    {\n",
    "        Console.Out.WriteLine(\"int: \" + chunk);\n",
    "        parsedInts.Add(num);\n",
    "    }\n",
    "    else\n",
    "    {\n",
    "        // Here are the strings that need searching.\n",
    "        Console.Out.WriteLine(\"current string: \" + chunk);\n",
    "        \n",
    "        Regex regex2 = new Regex(@\"(twone|oneight|eightwo|eighthree|threeight|fiveight|sevenine|nineight|one|two|three|four|five|six|seven|eight|nine)\", RegexOptions.IgnoreCase);\n",
    "        MatchCollection dmatches = regex2.Matches(chunk);\n",
    "\n",
    "        Console.Out.WriteLine(\"Match count: \" + dmatches.Count);\n",
    "        List<string> digits = new List<string>();\n",
    "\n",
    "        foreach (Match match in dmatches)\n",
    "        {\n",
    "            Console.Out.WriteLine(\"Match: \" + match.Value);\n",
    "            digits.Add(match.Value);\n",
    "        }\n",
    "\n",
    "    }\n",
    "\n",
    "}\n",
    "\n",
    "parsedInts.Clear();"
   ]
  },
  {
   "cell_type": "markdown",
   "metadata": {},
   "source": [
    "OK, It's not perfect, but this might be good enough."
   ]
  },
  {
   "cell_type": "code",
   "execution_count": 9,
   "metadata": {
    "dotnet_interactive": {
     "language": "csharp"
    },
    "polyglot_notebook": {
     "kernelName": "csharp"
    }
   },
   "outputs": [
    {
     "data": {
      "text/html": [
       "<div class=\"dni-plaintext\"><pre>55614</pre></div><style>\r\n",
       ".dni-code-hint {\r\n",
       "    font-style: italic;\r\n",
       "    overflow: hidden;\r\n",
       "    white-space: nowrap;\r\n",
       "}\r\n",
       ".dni-treeview {\r\n",
       "    white-space: nowrap;\r\n",
       "}\r\n",
       ".dni-treeview td {\r\n",
       "    vertical-align: top;\r\n",
       "    text-align: start;\r\n",
       "}\r\n",
       "details.dni-treeview {\r\n",
       "    padding-left: 1em;\r\n",
       "}\r\n",
       "table td {\r\n",
       "    text-align: start;\r\n",
       "}\r\n",
       "table tr { \r\n",
       "    vertical-align: top; \r\n",
       "    margin: 0em 0px;\r\n",
       "}\r\n",
       "table tr td pre \r\n",
       "{ \r\n",
       "    vertical-align: top !important; \r\n",
       "    margin: 0em 0px !important;\r\n",
       "} \r\n",
       "table th {\r\n",
       "    text-align: start;\r\n",
       "}\r\n",
       "</style>"
      ]
     },
     "metadata": {},
     "output_type": "display_data"
    }
   ],
   "source": [
    "int sum = 0;\n",
    "\n",
    "foreach (string s in lines)\n",
    "{\n",
    "    //Console.Out.WriteLine(\"current line: \" + s);\n",
    "\n",
    "    Regex regex = new Regex(@\"(\\d)|([a-zA-Z]+)\");\n",
    "\n",
    "    MatchCollection matches = regex.Matches(s);\n",
    "\n",
    "    List<string> results = new List<string>();\n",
    "\n",
    "    foreach (Match match in matches)\n",
    "    {\n",
    "        results.Add(match.Value);\n",
    "    }\n",
    "\n",
    "    List<int> parsedInts = new List<int>();\n",
    "    foreach (string chunk in results)\n",
    "    {\n",
    "        // Either it's a number or string at this point, and I can handle the number.\n",
    "        bool isNumeric = int.TryParse(chunk.ToString(), out int num);\n",
    "        if (isNumeric)\n",
    "        {\n",
    "            //Console.Out.WriteLine(\"int: \" + chunk);\n",
    "            parsedInts.Add(num);\n",
    "        }\n",
    "        else\n",
    "        {\n",
    "            // Here are the strings that need searching.\n",
    "            //Console.Out.WriteLine(\"current string: \" + chunk);\n",
    "            \n",
    "            Regex regex2 = new Regex(@\"(twone|oneight|eightwo|eighthree|threeight|fiveight|sevenine|nineight|one|two|three|four|five|six|seven|eight|nine)\", RegexOptions.IgnoreCase);\n",
    "            MatchCollection dmatches = regex2.Matches(chunk);\n",
    "\n",
    "            //Console.Out.WriteLine(\"Match count: \" + dmatches.Count);\n",
    "            \n",
    "            foreach (Match crazy in dmatches)\n",
    "            {\n",
    "                //Console.Out.WriteLine(\"Match: \" + crazy.Value);\n",
    "                // twone|oneight|eightwo|eighthree|threeight|fiveight|sevenine|nineight|one|two|three|four|five|six|seven|eight|nine\n",
    "                switch(crazy.Value)\n",
    "                {\n",
    "                    case \"twone\":\n",
    "                        parsedInts.Add(2);\n",
    "                        parsedInts.Add(1);\n",
    "                        break;\n",
    "                    case \"oneight\":\n",
    "                        parsedInts.Add(1);\n",
    "                        parsedInts.Add(8);\n",
    "                        break;\n",
    "                    case \"eightwo\":\n",
    "                        parsedInts.Add(8);\n",
    "                        parsedInts.Add(2);\n",
    "                        break;\n",
    "                    case \"eighthree\":\n",
    "                        parsedInts.Add(8);\n",
    "                        parsedInts.Add(3);\n",
    "                        break;\n",
    "                    case \"threeight\":\n",
    "                        parsedInts.Add(3);\n",
    "                        parsedInts.Add(8);\n",
    "                        break;\n",
    "                    case \"fiveight\":\n",
    "                        parsedInts.Add(5);\n",
    "                        parsedInts.Add(8);\n",
    "                        break;\n",
    "                    case \"sevenine\":\n",
    "                        parsedInts.Add(7);\n",
    "                        parsedInts.Add(9);\n",
    "                        break;\n",
    "                    case \"nineight\":\n",
    "                        parsedInts.Add(9);\n",
    "                        parsedInts.Add(8);\n",
    "                        break;\n",
    "                    case \"one\":\n",
    "                        parsedInts.Add(1);\n",
    "                        break;\n",
    "                    case \"two\":\n",
    "                        parsedInts.Add(2);\n",
    "                        break;\n",
    "                    case \"three\":\n",
    "                        parsedInts.Add(3);\n",
    "                        break;\n",
    "                    case \"four\":\n",
    "                        parsedInts.Add(4);\n",
    "                        break;\n",
    "                    case \"five\":\n",
    "                        parsedInts.Add(5);\n",
    "                        break;\n",
    "                    case \"six\":\n",
    "                        parsedInts.Add(6);\n",
    "                        break;\n",
    "                    case \"seven\":\n",
    "                        parsedInts.Add(7);\n",
    "                        break;\n",
    "                    case \"eight\":\n",
    "                        parsedInts.Add(8);\n",
    "                        break;\n",
    "                    case \"nine\":\n",
    "                        parsedInts.Add(9);\n",
    "                        break;\n",
    "                    default:\n",
    "                        Console.Out.WriteLine(\"Unable to parse value: \" + crazy.Value);\n",
    "                        break;\n",
    "                }\n",
    "            }\n",
    "\n",
    "        }\n",
    "\n",
    "    }\n",
    "\n",
    "    //Console.Out.WriteLine(\"number of ints in line: \" + parsedInts.Count);\n",
    "    String str = parsedInts[0] + \"\" + parsedInts[parsedInts.Count - 1];\n",
    "    //Console.Out.WriteLine(\"line value: \" + str);\n",
    "    int actualInt = parsedInts[0]*10 + parsedInts[parsedInts.Count - 1];\n",
    "    //Console.Out.WriteLine(\"Actual int: \" + actualInt);\n",
    "    sum += actualInt;\n",
    "    //Console.Out.WriteLine(\"Sum so far: \" + sum);\n",
    "    // clear out list or things go poorly.\n",
    "    parsedInts.Clear();\n",
    "}\n",
    "sum"
   ]
  },
  {
   "cell_type": "markdown",
   "metadata": {},
   "source": [
    "Apparently that's right!  Day one is in the books."
   ]
  }
 ],
 "metadata": {
  "kernelspec": {
   "display_name": ".NET (C#)",
   "language": "C#",
   "name": ".net-csharp"
  },
  "language_info": {
   "name": "polyglot-notebook"
  },
  "polyglot_notebook": {
   "kernelInfo": {
    "defaultKernelName": "csharp",
    "items": [
     {
      "aliases": [],
      "name": "csharp"
     }
    ]
   }
  }
 },
 "nbformat": 4,
 "nbformat_minor": 2
}
