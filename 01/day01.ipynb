{
 "cells": [
  {
   "cell_type": "markdown",
   "metadata": {},
   "source": [
    "Do some using statements."
   ]
  },
  {
   "cell_type": "code",
   "execution_count": 1,
   "metadata": {
    "dotnet_interactive": {
     "language": "csharp"
    },
    "polyglot_notebook": {
     "kernelName": "csharp"
    }
   },
   "outputs": [],
   "source": [
    "using static Microsoft.DotNet.Interactive.Formatting.PocketViewTags;\n",
    "using Microsoft.DotNet.Interactive.Formatting;\n",
    "using Microsoft.DotNet.Interactive;\n",
    "//using XPlot.Plotly.Interactive;\n",
    "using System.Collections.Generic;\n",
    "using System.IO;\n",
    "\n"
   ]
  },
  {
   "cell_type": "markdown",
   "metadata": {},
   "source": [
    "See if the input text exists."
   ]
  },
  {
   "cell_type": "code",
   "execution_count": 2,
   "metadata": {
    "dotnet_interactive": {
     "language": "csharp"
    },
    "polyglot_notebook": {
     "kernelName": "csharp"
    }
   },
   "outputs": [
    {
     "data": {
      "text/plain": [
       "This file exists.  Nothing has blown up.....yet."
      ]
     },
     "metadata": {},
     "output_type": "display_data"
    }
   ],
   "source": [
    "var fileExists = File.Exists(\"input.txt\");\n",
    "if (fileExists)\n",
    "{\n",
    "    display(\"This file exists.  Nothing has blown up.....yet.\");\n",
    "}"
   ]
  },
  {
   "cell_type": "markdown",
   "metadata": {},
   "source": [
    "Load the input into a string array"
   ]
  },
  {
   "cell_type": "code",
   "execution_count": 3,
   "metadata": {
    "dotnet_interactive": {
     "language": "csharp"
    },
    "polyglot_notebook": {
     "kernelName": "csharp"
    }
   },
   "outputs": [
    {
     "data": {
      "text/html": [
       "<div class=\"dni-plaintext\"><pre>[ 7jlncfksix7rjgrpglmn9, vcgkgxninerqjltdbhqzzpd4nine23, fx3, 8nrbjbpjpnineseven, 7qlfhcsnxn7fpfhjcgr6eightsevenjlpchjtzpztwo, 28rzgskgk94ninefive, zdpxcql1eight5, 8two5six37, 9khfphjl71trppsrtwo, lxthkgbbf2jdcssfiveqksvbqvm8four4, seven9tjcgztctxzzttct, onetljcfh9fivesvgcqnklz9four, 4mptgcnzmvvsevenzmjjzhndzdvxmz59bm, 1hrqthmr, 7eightqmfmsn, jkgdnpzjkzzceighttklsfiveqxgsvxdq4, hdk28lqhhttjz6one2, 2five524, 363mtk, qlmtpch9eightlzddxs7one ... (980 more) ]</pre></div><style>\r\n",
       ".dni-code-hint {\r\n",
       "    font-style: italic;\r\n",
       "    overflow: hidden;\r\n",
       "    white-space: nowrap;\r\n",
       "}\r\n",
       ".dni-treeview {\r\n",
       "    white-space: nowrap;\r\n",
       "}\r\n",
       ".dni-treeview td {\r\n",
       "    vertical-align: top;\r\n",
       "    text-align: start;\r\n",
       "}\r\n",
       "details.dni-treeview {\r\n",
       "    padding-left: 1em;\r\n",
       "}\r\n",
       "table td {\r\n",
       "    text-align: start;\r\n",
       "}\r\n",
       "table tr { \r\n",
       "    vertical-align: top; \r\n",
       "    margin: 0em 0px;\r\n",
       "}\r\n",
       "table tr td pre \r\n",
       "{ \r\n",
       "    vertical-align: top !important; \r\n",
       "    margin: 0em 0px !important;\r\n",
       "} \r\n",
       "table th {\r\n",
       "    text-align: start;\r\n",
       "}\r\n",
       "</style>"
      ]
     },
     "metadata": {},
     "output_type": "display_data"
    }
   ],
   "source": [
    "string[] lines = System.IO.File.ReadAllLines(\"input.txt\");\n",
    "lines"
   ]
  },
  {
   "cell_type": "markdown",
   "metadata": {},
   "source": [
    "do the calculations. Find the first and the last digit"
   ]
  },
  {
   "cell_type": "code",
   "execution_count": 4,
   "metadata": {
    "dotnet_interactive": {
     "language": "csharp"
    },
    "polyglot_notebook": {
     "kernelName": "csharp"
    }
   },
   "outputs": [
    {
     "name": "stdout",
     "output_type": "stream",
     "text": [
      "7\n",
      "7\n",
      "9\n",
      "number of ints in line: 3\n",
      "line value: 79\n"
     ]
    },
    {
     "data": {
      "text/html": [
       "<div class=\"dni-plaintext\"><pre>79</pre></div><style>\r\n",
       ".dni-code-hint {\r\n",
       "    font-style: italic;\r\n",
       "    overflow: hidden;\r\n",
       "    white-space: nowrap;\r\n",
       "}\r\n",
       ".dni-treeview {\r\n",
       "    white-space: nowrap;\r\n",
       "}\r\n",
       ".dni-treeview td {\r\n",
       "    vertical-align: top;\r\n",
       "    text-align: start;\r\n",
       "}\r\n",
       "details.dni-treeview {\r\n",
       "    padding-left: 1em;\r\n",
       "}\r\n",
       "table td {\r\n",
       "    text-align: start;\r\n",
       "}\r\n",
       "table tr { \r\n",
       "    vertical-align: top; \r\n",
       "    margin: 0em 0px;\r\n",
       "}\r\n",
       "table tr td pre \r\n",
       "{ \r\n",
       "    vertical-align: top !important; \r\n",
       "    margin: 0em 0px !important;\r\n",
       "} \r\n",
       "table th {\r\n",
       "    text-align: start;\r\n",
       "}\r\n",
       "</style>"
      ]
     },
     "metadata": {},
     "output_type": "display_data"
    }
   ],
   "source": [
    "string firstString = lines[0];\n",
    "char[] charArray = firstString.ToCharArray();\n",
    "List<int> parsedInts = new List<int>();\n",
    "foreach(char c in charArray)\n",
    "{\n",
    "    bool isNumeric = int.TryParse(c.ToString(), out int num);\n",
    "    if (isNumeric)\n",
    "    {\n",
    "        Console.Out.WriteLine(num);\n",
    "        parsedInts.Add(num);\n",
    "    }\n",
    "}\n",
    "Console.Out.WriteLine(\"number of ints in line: \" + parsedInts.Count);\n",
    "\n",
    "String s = parsedInts[0] + \"\" + parsedInts[parsedInts.Count - 1];\n",
    "Console.Out.WriteLine(\"line value: \" + s);\n",
    "int actualInt = parsedInts[0]*10 + parsedInts[parsedInts.Count - 1];\n",
    "actualInt"
   ]
  },
  {
   "cell_type": "markdown",
   "metadata": {},
   "source": [
    "OK, experiments are over.  Let's add the lines."
   ]
  },
  {
   "cell_type": "code",
   "execution_count": 5,
   "metadata": {
    "dotnet_interactive": {
     "language": "csharp"
    },
    "polyglot_notebook": {
     "kernelName": "csharp"
    }
   },
   "outputs": [
    {
     "data": {
      "text/html": [
       "<div class=\"dni-plaintext\"><pre>55488</pre></div><style>\r\n",
       ".dni-code-hint {\r\n",
       "    font-style: italic;\r\n",
       "    overflow: hidden;\r\n",
       "    white-space: nowrap;\r\n",
       "}\r\n",
       ".dni-treeview {\r\n",
       "    white-space: nowrap;\r\n",
       "}\r\n",
       ".dni-treeview td {\r\n",
       "    vertical-align: top;\r\n",
       "    text-align: start;\r\n",
       "}\r\n",
       "details.dni-treeview {\r\n",
       "    padding-left: 1em;\r\n",
       "}\r\n",
       "table td {\r\n",
       "    text-align: start;\r\n",
       "}\r\n",
       "table tr { \r\n",
       "    vertical-align: top; \r\n",
       "    margin: 0em 0px;\r\n",
       "}\r\n",
       "table tr td pre \r\n",
       "{ \r\n",
       "    vertical-align: top !important; \r\n",
       "    margin: 0em 0px !important;\r\n",
       "} \r\n",
       "table th {\r\n",
       "    text-align: start;\r\n",
       "}\r\n",
       "</style>"
      ]
     },
     "metadata": {},
     "output_type": "display_data"
    }
   ],
   "source": [
    "int sum = 0;\n",
    "\n",
    "foreach (string s in lines)\n",
    "{\n",
    "    //Console.Out.WriteLine(\"current line: \" + s);\n",
    "    char[] charArray = s.ToCharArray();\n",
    "    List<int> parsedInts = new List<int>();\n",
    "    foreach(char c in charArray)\n",
    "    {\n",
    "        bool isNumeric = int.TryParse(c.ToString(), out int num);\n",
    "        if (isNumeric)\n",
    "        {\n",
    "            parsedInts.Add(num);\n",
    "        }\n",
    "    }\n",
    "    //Console.Out.WriteLine(\"number of ints in line: \" + parsedInts.Count);\n",
    "    String str = parsedInts[0] + \"\" + parsedInts[parsedInts.Count - 1];\n",
    "    //Console.Out.WriteLine(\"line value: \" + str);\n",
    "    int actualInt = parsedInts[0]*10 + parsedInts[parsedInts.Count - 1];\n",
    "    //Console.Out.WriteLine(\"Actual int: \" + actualInt);\n",
    "    sum += actualInt;\n",
    "    //Console.Out.WriteLine(\"Sum so far: \" + sum);\n",
    "    // clear out list or things go poorly.\n",
    "    parsedInts.Clear();\n",
    "}\n",
    "sum"
   ]
  },
  {
   "cell_type": "markdown",
   "metadata": {},
   "source": [
    "OK, that's good for part 1.\n",
    "\n",
    "New requirement:\n",
    "It looks like some of the digits are actually spelled out with letters: one, two, three, four, five, six, seven, eight, and nine also count as valid \"digits\".\n",
    "\n",
    "Equipped with this new information, you now need to find the real first and last digit on each line. For example:\n",
    "\n",
    "two1nine\n",
    "eightwothree\n",
    "abcone2threexyz\n",
    "xtwone3four\n",
    "4nineeightseven2\n",
    "zoneight234\n",
    "7pqrstsixteen\n",
    "\n",
    "In this example, the calibration values are 29, 83, 13, 24, 42, 14, and 76. Adding these together produces 281."
   ]
  },
  {
   "cell_type": "code",
   "execution_count": 8,
   "metadata": {
    "dotnet_interactive": {
     "language": "csharp"
    },
    "polyglot_notebook": {
     "kernelName": "csharp"
    }
   },
   "outputs": [],
   "source": [
    "string s1 = lines[0]; // 7jlncfksix7rjgrpglmn9\n",
    "string s2 = lines[1]; //vcgkgxninerqjltdbhqzzpd4nine23\n",
    "\n",
    "// each string should be made of substrings so we can order the numbers and letters together\n",
    "\n"
   ]
  }
 ],
 "metadata": {
  "kernelspec": {
   "display_name": ".NET (C#)",
   "language": "C#",
   "name": ".net-csharp"
  },
  "language_info": {
   "name": "polyglot-notebook"
  },
  "polyglot_notebook": {
   "kernelInfo": {
    "defaultKernelName": "csharp",
    "items": [
     {
      "aliases": [],
      "name": "csharp"
     }
    ]
   }
  }
 },
 "nbformat": 4,
 "nbformat_minor": 2
}
