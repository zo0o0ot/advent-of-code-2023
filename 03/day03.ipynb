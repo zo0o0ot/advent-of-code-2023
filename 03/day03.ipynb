{
 "cells": [
  {
   "cell_type": "code",
   "execution_count": 13,
   "metadata": {
    "dotnet_interactive": {
     "language": "csharp"
    },
    "polyglot_notebook": {
     "kernelName": "csharp"
    }
   },
   "outputs": [],
   "source": [
    "using static Microsoft.DotNet.Interactive.Formatting.PocketViewTags;\n",
    "using Microsoft.DotNet.Interactive.Formatting;\n",
    "using Microsoft.DotNet.Interactive;\n",
    "//using XPlot.Plotly.Interactive;\n",
    "using System.Collections.Generic;\n",
    "using System.IO;\n",
    "using System;\n",
    "using System.Text.RegularExpressions;"
   ]
  },
  {
   "cell_type": "code",
   "execution_count": 14,
   "metadata": {
    "dotnet_interactive": {
     "language": "csharp"
    },
    "polyglot_notebook": {
     "kernelName": "csharp"
    }
   },
   "outputs": [
    {
     "data": {
      "text/plain": [
       "This file exists.  Nothing has blown up.....yet."
      ]
     },
     "metadata": {},
     "output_type": "display_data"
    }
   ],
   "source": [
    "var fileExists = File.Exists(\"input.txt\");\n",
    "if (fileExists)\n",
    "{\n",
    "    display(\"This file exists.  Nothing has blown up.....yet.\");\n",
    "}"
   ]
  },
  {
   "cell_type": "code",
   "execution_count": 15,
   "metadata": {
    "dotnet_interactive": {
     "language": "csharp"
    },
    "polyglot_notebook": {
     "kernelName": "csharp"
    }
   },
   "outputs": [
    {
     "data": {
      "text/html": [
       "<div class=\"dni-plaintext\"><pre>140</pre></div><style>\r\n",
       ".dni-code-hint {\r\n",
       "    font-style: italic;\r\n",
       "    overflow: hidden;\r\n",
       "    white-space: nowrap;\r\n",
       "}\r\n",
       ".dni-treeview {\r\n",
       "    white-space: nowrap;\r\n",
       "}\r\n",
       ".dni-treeview td {\r\n",
       "    vertical-align: top;\r\n",
       "    text-align: start;\r\n",
       "}\r\n",
       "details.dni-treeview {\r\n",
       "    padding-left: 1em;\r\n",
       "}\r\n",
       "table td {\r\n",
       "    text-align: start;\r\n",
       "}\r\n",
       "table tr { \r\n",
       "    vertical-align: top; \r\n",
       "    margin: 0em 0px;\r\n",
       "}\r\n",
       "table tr td pre \r\n",
       "{ \r\n",
       "    vertical-align: top !important; \r\n",
       "    margin: 0em 0px !important;\r\n",
       "} \r\n",
       "table th {\r\n",
       "    text-align: start;\r\n",
       "}\r\n",
       "</style>"
      ]
     },
     "metadata": {},
     "output_type": "display_data"
    }
   ],
   "source": [
    "string[] lines = System.IO.File.ReadAllLines(\"input.txt\");\n",
    "lines.Length\n",
    "//lines[0].Length\n"
   ]
  },
  {
   "cell_type": "code",
   "execution_count": 99,
   "metadata": {
    "dotnet_interactive": {
     "language": "csharp"
    },
    "polyglot_notebook": {
     "kernelName": "csharp"
    }
   },
   "outputs": [],
   "source": [
    "public class CharacterGrid\n",
    "{\n",
    "    public char[,] grid; // Internal 2D array for storing characters\n",
    "    public int rows; // Number of rows in the grid\n",
    "    public int columns; // Number of columns in the grid\n",
    "\n",
    "    public CharacterGrid(int rows, int columns)\n",
    "    {\n",
    "        this.rows = rows;\n",
    "        this.columns = columns;\n",
    "        this.grid = new char[rows, columns];\n",
    "    }\n",
    "\n",
    "    // Get the character at a specific row and column\n",
    "    public char GetCharacter(int row, int column)\n",
    "    {\n",
    "        if (!IsValidIndex(row, column))\n",
    "        {\n",
    "            return '.'; // return a useless '.' character if the index isn't valid\n",
    "        }\n",
    "\n",
    "        return grid[row, column];\n",
    "    }\n",
    "\n",
    "    // Set the character at a specific row and column\n",
    "    public void SetCharacter(int row, int column, char character)\n",
    "    {\n",
    "        if (!IsValidIndex(row, column))\n",
    "        {\n",
    "            throw new IndexOutOfRangeException(\"Invalid row or column index\");\n",
    "        }\n",
    "\n",
    "        grid[row, column] = character;\n",
    "    }\n",
    "\n",
    "    public void SetRow(string line, int rowNum)\n",
    "    {\n",
    "        int i = 0;\n",
    "        foreach(char c in line)\n",
    "        {\n",
    "            SetCharacter(rowNum, i, c);\n",
    "            i++;\n",
    "        }\n",
    "    }\n",
    "\n",
    "    public List<PartNumber> GetUnverifiedParts(string line, int rowNum)\n",
    "    {\n",
    "        List<PartNumber> unverifiedParts = new List<PartNumber>();\n",
    "\n",
    "        Regex regex = new Regex(@\"(-?\\d+)\");\n",
    "\n",
    "        foreach (Match match in regex.Matches(line))\n",
    "        {\n",
    "            int number = int.Parse(match.Groups[1].Value);\n",
    "            int startPos = match.Index;\n",
    "            int endPos = startPos + match.Length;\n",
    "            PartNumber tempPart = new PartNumber(number, startPos, endPos, rowNum);\n",
    "            unverifiedParts.Add(tempPart);\n",
    "            //Console.WriteLine($\"Line: {rowNum} Number: {number}, Start: {startPos}, End: {endPos}\");\n",
    "        }\n",
    "        return unverifiedParts;\n",
    "    }\n",
    "\n",
    "    public List<PartNumber> GetVerifiedParts(List<PartNumber> unverifiedParts)\n",
    "    {\n",
    "        List<PartNumber> VerifiedParts = new List<PartNumber>();\n",
    "\n",
    "        foreach (PartNumber pn in unverifiedParts)\n",
    "        {\n",
    "            bool isSpecial = false;\n",
    "            foreach ((int row, int column) bc in pn.borderCharacters)\n",
    "            {\n",
    "                bool actuallyIsSpecial = IsSpecialCharacter(bc.row, bc.column);\n",
    "                if (actuallyIsSpecial)\n",
    "                {\n",
    "                    isSpecial = true;\n",
    "                }\n",
    "            }\n",
    "            if(isSpecial)\n",
    "            {\n",
    "                pn.isValid = true;\n",
    "                VerifiedParts.Add(pn);\n",
    "            }\n",
    "        }\n",
    "        return VerifiedParts;\n",
    "    }\n",
    "\n",
    "    public bool IsSpecialCharacter(int row, int column)\n",
    "    {\n",
    "        // looking for *, =, -, +, &, #, %, /, @, $\n",
    "        char c = GetCharacter(row, column);\n",
    "        bool special =  false;\n",
    "        switch(c)\n",
    "        {\n",
    "            case '*':\n",
    "            case '=':\n",
    "            case '-':\n",
    "            case '+':\n",
    "            case '&':\n",
    "            case '#':\n",
    "            case '%':\n",
    "            case '/':\n",
    "            case '@':\n",
    "            case '$':\n",
    "                //Console.Out.WriteLine(\"Character \" + c + \" is special\");\n",
    "                special = true;\n",
    "                break;\n",
    "            default:\n",
    "                special = false;\n",
    "                break;\n",
    "        }\n",
    "        return special;\n",
    "\n",
    "    }\n",
    "\n",
    "    // Check if a row and column index are within the grid bounds\n",
    "    public bool IsValidIndex(int row, int column)\n",
    "    {\n",
    "        return row >= 0 && row < rows && column >= 0 && column < columns;\n",
    "    }\n",
    "\n",
    "    public bool HasValidIndicator()\n",
    "    {\n",
    "        return false;\n",
    "    }\n",
    "\n",
    "\n",
    "    \n",
    "}\n",
    "\n",
    "public class PartNumber\n",
    "{\n",
    "    public int value;\n",
    "    public int startColumn;\n",
    "    public int endColumn;\n",
    "    public int row;\n",
    "    public bool isValid;\n",
    "    public List<(int row, int column)> borderCharacters;\n",
    "\n",
    "    public PartNumber(int value, int startColumn, int endColumn, int row)\n",
    "    {\n",
    "        this.value = value;\n",
    "        this.startColumn = startColumn;\n",
    "        this.endColumn = endColumn;\n",
    "        this.row = row;\n",
    "        borderCharacters = GetBorderCharacters();\n",
    "    }\n",
    "\n",
    "    public List<(int row, int column)> GetBorderCharacters()\n",
    "    {\n",
    "        List<(int row, int column)> borderChars = new List<(int row, int column)>();\n",
    "        int leftColumn = this.startColumn - 1;\n",
    "        int rightColumn = this.endColumn + 1;\n",
    "        int topRow = this.row - 1;\n",
    "        int bottomRow = this.row + 1;\n",
    "        //Console.WriteLine($\"TopRow: {topRow} BottomRow: {bottomRow}, LeftColumn: {leftColumn}, RightColumn: {rightColumn}\");\n",
    "        // Example - TopRow: 0 BottomRow: 2, LeftColumn: 2, RightColumn: 6\n",
    "        // Add top and bottom rows.\n",
    "        for (int i = leftColumn; i<=rightColumn; i++)\n",
    "        {\n",
    "            (int row, int column) temp = (topRow, i);\n",
    "            (int row, int column) temp2 = (bottomRow, i);\n",
    "            borderChars.Add(temp);\n",
    "            borderChars.Add(temp2);\n",
    "        }\n",
    "        // Add middle row. Only add leftmost and rightmost columns.\n",
    "        borderChars.Add((this.row, leftColumn));\n",
    "        borderChars.Add((this.row, rightColumn));\n",
    "\n",
    "\n",
    "\n",
    "\n",
    "        return borderChars;\n",
    "    }\n",
    "\n",
    "}\n",
    "\n"
   ]
  },
  {
   "cell_type": "code",
   "execution_count": 50,
   "metadata": {
    "dotnet_interactive": {
     "language": "csharp"
    },
    "polyglot_notebook": {
     "kernelName": "csharp"
    }
   },
   "outputs": [
    {
     "name": "stdout",
     "output_type": "stream",
     "text": [
      "4, 8, ., 5, 0, 1, 3, 6, 2, 7, 9, *, =, -, +, &, #, %, /, @, $\n"
     ]
    }
   ],
   "source": [
    "// Let's get a list of all characters, to specify the \"special\" ones.\n",
    "List<char> allChars = lines.SelectMany(s => s.ToCharArray()).Distinct().ToList();\n",
    "\n",
    "Console.WriteLine(string.Join(\", \", allChars));"
   ]
  },
  {
   "cell_type": "code",
   "execution_count": 101,
   "metadata": {
    "dotnet_interactive": {
     "language": "csharp"
    },
    "polyglot_notebook": {
     "kernelName": "csharp"
    }
   },
   "outputs": [
    {
     "data": {
      "text/html": [
       "<div class=\"dni-plaintext\"><pre>491927</pre></div><style>\r\n",
       ".dni-code-hint {\r\n",
       "    font-style: italic;\r\n",
       "    overflow: hidden;\r\n",
       "    white-space: nowrap;\r\n",
       "}\r\n",
       ".dni-treeview {\r\n",
       "    white-space: nowrap;\r\n",
       "}\r\n",
       ".dni-treeview td {\r\n",
       "    vertical-align: top;\r\n",
       "    text-align: start;\r\n",
       "}\r\n",
       "details.dni-treeview {\r\n",
       "    padding-left: 1em;\r\n",
       "}\r\n",
       "table td {\r\n",
       "    text-align: start;\r\n",
       "}\r\n",
       "table tr { \r\n",
       "    vertical-align: top; \r\n",
       "    margin: 0em 0px;\r\n",
       "}\r\n",
       "table tr td pre \r\n",
       "{ \r\n",
       "    vertical-align: top !important; \r\n",
       "    margin: 0em 0px !important;\r\n",
       "} \r\n",
       "table th {\r\n",
       "    text-align: start;\r\n",
       "}\r\n",
       "</style>"
      ]
     },
     "metadata": {},
     "output_type": "display_data"
    }
   ],
   "source": [
    "CharacterGrid cg = new CharacterGrid(140, 140);\n",
    "int i = 0;\n",
    "List<PartNumber> parts = new List<PartNumber>();\n",
    "foreach(string line in lines)\n",
    "{\n",
    "    cg.SetRow(line, i);\n",
    "    List<PartNumber> tempParts = cg.GetUnverifiedParts(line, i);\n",
    "    parts.AddRange(tempParts);\n",
    "    i++;\n",
    "}\n",
    "\n",
    "\n",
    "//char x = cg.GetCharacter(137,136);\n",
    "\n",
    "//bool isSpecial = cg.IsSpecialCharacter(137,136);\n",
    "\n",
    "//PartNumber p = new PartNumber(48, 0, 1, 0);\n",
    "//PartNumber p2 = new PartNumber(491,3, 5, 1);\n",
    "\n",
    "//List<(int row, int column)> d = p2.GetBorderCharacters();\n",
    "\n",
    "List<PartNumber> validParts = cg.GetVerifiedParts(parts);\n",
    "\n",
    "int sum = 0;\n",
    "foreach(PartNumber p in validParts)\n",
    "{\n",
    "    sum += p.value;\n",
    "}\n",
    "sum\n"
   ]
  },
  {
   "cell_type": "markdown",
   "metadata": {},
   "source": [
    "This is wrong. However, I'm not sure what will make it right. It says that my answer (491927) is too low. I assume that my search for special characters in the border characters, so I'll need to debug that."
   ]
  }
 ],
 "metadata": {
  "kernelspec": {
   "display_name": ".NET (C#)",
   "language": "C#",
   "name": ".net-csharp"
  },
  "language_info": {
   "name": "polyglot-notebook"
  },
  "polyglot_notebook": {
   "kernelInfo": {
    "defaultKernelName": "csharp",
    "items": [
     {
      "aliases": [],
      "name": "csharp"
     }
    ]
   }
  }
 },
 "nbformat": 4,
 "nbformat_minor": 2
}
