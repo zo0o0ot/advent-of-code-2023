{
 "cells": [
  {
   "cell_type": "markdown",
   "metadata": {},
   "source": [
    "Do some using statements."
   ]
  },
  {
   "cell_type": "code",
   "execution_count": 1,
   "metadata": {
    "dotnet_interactive": {
     "language": "csharp"
    },
    "polyglot_notebook": {
     "kernelName": "csharp"
    }
   },
   "outputs": [],
   "source": [
    "using static Microsoft.DotNet.Interactive.Formatting.PocketViewTags;\n",
    "using Microsoft.DotNet.Interactive.Formatting;\n",
    "using Microsoft.DotNet.Interactive;\n",
    "//using XPlot.Plotly.Interactive;\n",
    "using System.Collections.Generic;\n",
    "using System.IO;\n",
    "using System;\n",
    "using System.Text.RegularExpressions;\n",
    "\n"
   ]
  },
  {
   "cell_type": "markdown",
   "metadata": {},
   "source": [
    "See if the input text exists."
   ]
  },
  {
   "cell_type": "code",
   "execution_count": 2,
   "metadata": {
    "dotnet_interactive": {
     "language": "csharp"
    },
    "polyglot_notebook": {
     "kernelName": "csharp"
    }
   },
   "outputs": [
    {
     "data": {
      "text/plain": [
       "This file exists.  Nothing has blown up.....yet."
      ]
     },
     "metadata": {},
     "output_type": "display_data"
    }
   ],
   "source": [
    "var fileExists = File.Exists(\"input.txt\");\n",
    "if (fileExists)\n",
    "{\n",
    "    display(\"This file exists.  Nothing has blown up.....yet.\");\n",
    "}"
   ]
  },
  {
   "cell_type": "markdown",
   "metadata": {},
   "source": [
    "Load the input into a string array"
   ]
  },
  {
   "cell_type": "code",
   "execution_count": 3,
   "metadata": {
    "dotnet_interactive": {
     "language": "csharp"
    },
    "polyglot_notebook": {
     "kernelName": "csharp"
    }
   },
   "outputs": [
    {
     "data": {
      "text/html": [
       "<div class=\"dni-plaintext\"><pre>[ Card 1: 41 48 83 86 17 | 83 86  6 31 17  9 48 53, Card 2: 13 32 20 16 61 | 61 30 68 82 17 32 24 19, Card 3:  1 21 53 59 44 | 69 82 63 72 16 21 14  1, Card 4: 41 92 73 84 69 | 59 84 76 51 58  5 54 83, Card 5: 87 83 26 28 32 | 88 30 70 12 93 22 82 36, Card 6: 31 18 13 56 72 | 74 77 10 23 35 67 36 11 ]</pre></div><style>\r\n",
       ".dni-code-hint {\r\n",
       "    font-style: italic;\r\n",
       "    overflow: hidden;\r\n",
       "    white-space: nowrap;\r\n",
       "}\r\n",
       ".dni-treeview {\r\n",
       "    white-space: nowrap;\r\n",
       "}\r\n",
       ".dni-treeview td {\r\n",
       "    vertical-align: top;\r\n",
       "    text-align: start;\r\n",
       "}\r\n",
       "details.dni-treeview {\r\n",
       "    padding-left: 1em;\r\n",
       "}\r\n",
       "table td {\r\n",
       "    text-align: start;\r\n",
       "}\r\n",
       "table tr { \r\n",
       "    vertical-align: top; \r\n",
       "    margin: 0em 0px;\r\n",
       "}\r\n",
       "table tr td pre \r\n",
       "{ \r\n",
       "    vertical-align: top !important; \r\n",
       "    margin: 0em 0px !important;\r\n",
       "} \r\n",
       "table th {\r\n",
       "    text-align: start;\r\n",
       "}\r\n",
       "</style>"
      ]
     },
     "metadata": {},
     "output_type": "display_data"
    }
   ],
   "source": [
    "string[] input = System.IO.File.ReadAllLines(\"input.txt\");\n",
    "string[] sample = System.IO.File.ReadAllLines(\"sample.txt\");\n",
    "sample"
   ]
  },
  {
   "cell_type": "code",
   "execution_count": 33,
   "metadata": {
    "dotnet_interactive": {
     "language": "csharp"
    },
    "polyglot_notebook": {
     "kernelName": "csharp"
    }
   },
   "outputs": [
    {
     "data": {
      "text/html": [
       "<div class=\"dni-plaintext\"><pre>25571</pre></div><style>\r\n",
       ".dni-code-hint {\r\n",
       "    font-style: italic;\r\n",
       "    overflow: hidden;\r\n",
       "    white-space: nowrap;\r\n",
       "}\r\n",
       ".dni-treeview {\r\n",
       "    white-space: nowrap;\r\n",
       "}\r\n",
       ".dni-treeview td {\r\n",
       "    vertical-align: top;\r\n",
       "    text-align: start;\r\n",
       "}\r\n",
       "details.dni-treeview {\r\n",
       "    padding-left: 1em;\r\n",
       "}\r\n",
       "table td {\r\n",
       "    text-align: start;\r\n",
       "}\r\n",
       "table tr { \r\n",
       "    vertical-align: top; \r\n",
       "    margin: 0em 0px;\r\n",
       "}\r\n",
       "table tr td pre \r\n",
       "{ \r\n",
       "    vertical-align: top !important; \r\n",
       "    margin: 0em 0px !important;\r\n",
       "} \r\n",
       "table th {\r\n",
       "    text-align: start;\r\n",
       "}\r\n",
       "</style>"
      ]
     },
     "metadata": {},
     "output_type": "display_data"
    }
   ],
   "source": [
    "// get one string to test.\n",
    "string sample0 = sample[0]; \n",
    "\n",
    "\n",
    "\n",
    "public class ScratchCard\n",
    "{\n",
    "    public int CardNumber;\n",
    "    public List<int> WinningNumbers;\n",
    "    public List<int> PotentialNumbers;\n",
    "    public int Matches;\n",
    "    public double Points;\n",
    "\n",
    "    public ScratchCard(int cardNumber, List<int> winners, List<int> potentials)\n",
    "    {\n",
    "        this.CardNumber = cardNumber;\n",
    "        this.WinningNumbers = winners;\n",
    "        this.PotentialNumbers = potentials;\n",
    "        this.Matches = winners.Intersect(potentials).Count();\n",
    "        if(this.Matches == 0)\n",
    "        {\n",
    "            this.Points = 0;\n",
    "        }\n",
    "        else\n",
    "        {\n",
    "            this.Points = Math.Pow(2, this.Matches-1);\n",
    "        }\n",
    "\n",
    "    }\n",
    "}\n",
    "\n",
    "public List<int> GetNumbers(string str)\n",
    "{\n",
    "    List<int> numbers = new List<int>();\n",
    "    Regex regex = new Regex(@\"\\b\\d{1,2}\\b\", RegexOptions.Compiled);\n",
    "    MatchCollection matches = regex.Matches(str);\n",
    "    foreach (Match match in matches)\n",
    "    {\n",
    "        bool result = int.TryParse(match.Value, out int num);\n",
    "        if (result)\n",
    "        {\n",
    "            numbers.Add(num);\n",
    "        }\n",
    "    }\n",
    "    return numbers;\n",
    "}\n",
    "\n",
    "public int GetCardNumber(string cardString)\n",
    "{\n",
    "    string digits = Regex.Replace(cardString, \"[^0-9]\", \"\");\n",
    "    int cardNum;\n",
    "    bool success = int.TryParse(digits, out cardNum);\n",
    "    //Console.WriteLine(\"CardNumber: \" + cardNum);\n",
    "    return cardNum;\n",
    "}\n",
    "\n",
    "List<ScratchCard> cards = new List<ScratchCard>();\n",
    "double sum = 0;\n",
    "foreach(string str in input)\n",
    "{\n",
    "    // Split stuff out.\n",
    "    string[] firstSplit = str.Split(\":\");\n",
    "    string CardInfo = firstSplit[0];\n",
    "    string[] secondSplit = firstSplit[1].Split(\"|\");\n",
    "    string winningNumberString = secondSplit[0];\n",
    "    string potentialNumberString = secondSplit[1];\n",
    "    //Console.WriteLine(\"Potential Numbers: \" +  potentialNumberString);\n",
    "    //Convert strings to useful data types.\n",
    "    List<int> winningNumbers = GetNumbers(winningNumberString);\n",
    "    List<int> potentialNumbers = GetNumbers(potentialNumberString);\n",
    "    int cardNumber = GetCardNumber(CardInfo);\n",
    "    //Create the card\n",
    "    ScratchCard card = new ScratchCard(cardNumber, winningNumbers, potentialNumbers);\n",
    "    cards.Add(card);\n",
    "    sum += card.Points;\n",
    "}\n",
    "//cards\n",
    "sum"
   ]
  },
  {
   "cell_type": "markdown",
   "metadata": {},
   "source": [
    "Part 2: There's no such thing as \"points\". Instead, scratchcards only cause you to win more scratchcards equal to the number of winning numbers you have.\n",
    "\n",
    "Specifically, you win copies of the scratchcards below the winning card equal to the number of matches. So, if card 10 were to have 5 matching numbers, you would win one copy each of cards 11, 12, 13, 14, and 15."
   ]
  },
  {
   "cell_type": "code",
   "execution_count": null,
   "metadata": {
    "dotnet_interactive": {
     "language": "csharp"
    },
    "polyglot_notebook": {
     "kernelName": "csharp"
    }
   },
   "outputs": [],
   "source": []
  }
 ],
 "metadata": {
  "kernelspec": {
   "display_name": ".NET (C#)",
   "language": "C#",
   "name": ".net-csharp"
  },
  "language_info": {
   "name": "polyglot-notebook"
  },
  "polyglot_notebook": {
   "kernelInfo": {
    "defaultKernelName": "csharp",
    "items": [
     {
      "aliases": [],
      "name": "csharp"
     }
    ]
   }
  }
 },
 "nbformat": 4,
 "nbformat_minor": 2
}
